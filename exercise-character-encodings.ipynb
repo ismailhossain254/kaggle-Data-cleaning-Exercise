{
 "cells": [
  {
   "cell_type": "markdown",
   "id": "c27e111a",
   "metadata": {
    "papermill": {
     "duration": 0.006387,
     "end_time": "2022-12-25T18:58:17.270557",
     "exception": false,
     "start_time": "2022-12-25T18:58:17.264170",
     "status": "completed"
    },
    "tags": []
   },
   "source": [
    "**This notebook is an exercise in the [Data Cleaning](https://www.kaggle.com/learn/data-cleaning) course.  You can reference the tutorial at [this link](https://www.kaggle.com/alexisbcook/character-encodings).**\n",
    "\n",
    "---\n"
   ]
  },
  {
   "cell_type": "markdown",
   "id": "82da1c95",
   "metadata": {
    "papermill": {
     "duration": 0.004463,
     "end_time": "2022-12-25T18:58:17.280113",
     "exception": false,
     "start_time": "2022-12-25T18:58:17.275650",
     "status": "completed"
    },
    "tags": []
   },
   "source": [
    "In this exercise, you'll apply what you learned in the **Character encodings** tutorial.\n",
    "\n",
    "# Setup\n",
    "\n",
    "The questions below will give you feedback on your work. Run the following cell to set up the feedback system."
   ]
  },
  {
   "cell_type": "code",
   "execution_count": 1,
   "id": "3f9e95e5",
   "metadata": {
    "execution": {
     "iopub.execute_input": "2022-12-25T18:58:17.292318Z",
     "iopub.status.busy": "2022-12-25T18:58:17.291741Z",
     "iopub.status.idle": "2022-12-25T18:58:17.399096Z",
     "shell.execute_reply": "2022-12-25T18:58:17.397807Z"
    },
    "papermill": {
     "duration": 0.117355,
     "end_time": "2022-12-25T18:58:17.402269",
     "exception": false,
     "start_time": "2022-12-25T18:58:17.284914",
     "status": "completed"
    },
    "tags": []
   },
   "outputs": [
    {
     "name": "stdout",
     "output_type": "stream",
     "text": [
      "Setup Complete\n"
     ]
    }
   ],
   "source": [
    "from learntools.core import binder\n",
    "binder.bind(globals())\n",
    "from learntools.data_cleaning.ex4 import *\n",
    "print(\"Setup Complete\")"
   ]
  },
  {
   "cell_type": "markdown",
   "id": "50615924",
   "metadata": {
    "papermill": {
     "duration": 0.004524,
     "end_time": "2022-12-25T18:58:17.411747",
     "exception": false,
     "start_time": "2022-12-25T18:58:17.407223",
     "status": "completed"
    },
    "tags": []
   },
   "source": [
    "# Get our environment set up\n",
    "\n",
    "The first thing we'll need to do is load in the libraries we'll be using."
   ]
  },
  {
   "cell_type": "code",
   "execution_count": 2,
   "id": "38f1a4f6",
   "metadata": {
    "execution": {
     "iopub.execute_input": "2022-12-25T18:58:17.424428Z",
     "iopub.status.busy": "2022-12-25T18:58:17.423071Z",
     "iopub.status.idle": "2022-12-25T18:58:17.429015Z",
     "shell.execute_reply": "2022-12-25T18:58:17.428012Z"
    },
    "papermill": {
     "duration": 0.015055,
     "end_time": "2022-12-25T18:58:17.431706",
     "exception": false,
     "start_time": "2022-12-25T18:58:17.416651",
     "status": "completed"
    },
    "tags": []
   },
   "outputs": [],
   "source": [
    "# modules we'll use\n",
    "import pandas as pd\n",
    "import numpy as np\n",
    "\n",
    "# helpful character encoding module\n",
    "import chardet\n",
    "\n",
    "# set seed for reproducibility\n",
    "np.random.seed(0)"
   ]
  },
  {
   "cell_type": "markdown",
   "id": "d3549106",
   "metadata": {
    "papermill": {
     "duration": 0.004614,
     "end_time": "2022-12-25T18:58:17.441196",
     "exception": false,
     "start_time": "2022-12-25T18:58:17.436582",
     "status": "completed"
    },
    "tags": []
   },
   "source": [
    "# 1) What are encodings?\n",
    "\n",
    "You're working with a dataset composed of bytes.  Run the code cell below to print a sample entry."
   ]
  },
  {
   "cell_type": "code",
   "execution_count": 3,
   "id": "e1264e67",
   "metadata": {
    "execution": {
     "iopub.execute_input": "2022-12-25T18:58:17.453339Z",
     "iopub.status.busy": "2022-12-25T18:58:17.452823Z",
     "iopub.status.idle": "2022-12-25T18:58:17.459023Z",
     "shell.execute_reply": "2022-12-25T18:58:17.457743Z"
    },
    "papermill": {
     "duration": 0.015504,
     "end_time": "2022-12-25T18:58:17.461575",
     "exception": false,
     "start_time": "2022-12-25T18:58:17.446071",
     "status": "completed"
    },
    "tags": []
   },
   "outputs": [
    {
     "name": "stdout",
     "output_type": "stream",
     "text": [
      "b'\\xa7A\\xa6n'\n",
      "data type: <class 'bytes'>\n"
     ]
    }
   ],
   "source": [
    "sample_entry = b'\\xa7A\\xa6n'\n",
    "print(sample_entry)\n",
    "print('data type:', type(sample_entry))"
   ]
  },
  {
   "cell_type": "markdown",
   "id": "7264816b",
   "metadata": {
    "papermill": {
     "duration": 0.004728,
     "end_time": "2022-12-25T18:58:17.471259",
     "exception": false,
     "start_time": "2022-12-25T18:58:17.466531",
     "status": "completed"
    },
    "tags": []
   },
   "source": [
    "You notice that it doesn't use the standard UTF-8 encoding. \n",
    "\n",
    "Use the next code cell to create a variable `new_entry` that changes the encoding from `\"big5-tw\"` to `\"utf-8\"`.  `new_entry` should have the bytes datatype."
   ]
  },
  {
   "cell_type": "code",
   "execution_count": 4,
   "id": "5e4b483b",
   "metadata": {
    "execution": {
     "iopub.execute_input": "2022-12-25T18:58:17.486330Z",
     "iopub.status.busy": "2022-12-25T18:58:17.485009Z",
     "iopub.status.idle": "2022-12-25T18:58:17.506743Z",
     "shell.execute_reply": "2022-12-25T18:58:17.503597Z"
    },
    "papermill": {
     "duration": 0.034083,
     "end_time": "2022-12-25T18:58:17.510618",
     "exception": false,
     "start_time": "2022-12-25T18:58:17.476535",
     "status": "completed"
    },
    "tags": []
   },
   "outputs": [
    {
     "name": "stdout",
     "output_type": "stream",
     "text": [
      "b'\\xe4\\xbd\\xa0\\xe5\\xa5\\xbd'\n"
     ]
    },
    {
     "data": {
      "application/javascript": [
       "parent.postMessage({\"jupyterEvent\": \"custom.exercise_interaction\", \"data\": {\"outcomeType\": 1, \"valueTowardsCompletion\": 0.3333333333333333, \"interactionType\": 1, \"questionType\": 1, \"questionId\": \"1_EncodingsIntro\", \"learnToolsVersion\": \"0.3.4\", \"failureMessage\": \"\", \"exceptionClass\": \"\", \"trace\": \"\"}}, \"*\")"
      ],
      "text/plain": [
       "<IPython.core.display.Javascript object>"
      ]
     },
     "metadata": {},
     "output_type": "display_data"
    },
    {
     "data": {
      "text/markdown": [
       "<span style=\"color:#33cc33\">Correct</span>"
      ],
      "text/plain": [
       "Correct"
      ]
     },
     "metadata": {},
     "output_type": "display_data"
    }
   ],
   "source": [
    "before = sample_entry.decode(\"big5-tw\")\n",
    "new_entry = before.encode()\n",
    "print(new_entry)\n",
    "\n",
    "# Check your answer\n",
    "q1.check()"
   ]
  },
  {
   "cell_type": "code",
   "execution_count": 5,
   "id": "8b8646e1",
   "metadata": {
    "execution": {
     "iopub.execute_input": "2022-12-25T18:58:17.530861Z",
     "iopub.status.busy": "2022-12-25T18:58:17.529744Z",
     "iopub.status.idle": "2022-12-25T18:58:17.546589Z",
     "shell.execute_reply": "2022-12-25T18:58:17.543530Z"
    },
    "papermill": {
     "duration": 0.031343,
     "end_time": "2022-12-25T18:58:17.549634",
     "exception": false,
     "start_time": "2022-12-25T18:58:17.518291",
     "status": "completed"
    },
    "tags": []
   },
   "outputs": [
    {
     "data": {
      "application/javascript": [
       "parent.postMessage({\"jupyterEvent\": \"custom.exercise_interaction\", \"data\": {\"interactionType\": 2, \"questionType\": 1, \"questionId\": \"1_EncodingsIntro\", \"learnToolsVersion\": \"0.3.4\", \"valueTowardsCompletion\": 0.0, \"failureMessage\": \"\", \"exceptionClass\": \"\", \"trace\": \"\", \"outcomeType\": 4}}, \"*\")"
      ],
      "text/plain": [
       "<IPython.core.display.Javascript object>"
      ]
     },
     "metadata": {},
     "output_type": "display_data"
    },
    {
     "data": {
      "text/markdown": [
       "<span style=\"color:#3366cc\">Hint:</span> Try using `.decode()` to get the string, then `.encode()` to get the bytes representation, encoded in UTF-8."
      ],
      "text/plain": [
       "Hint: Try using `.decode()` to get the string, then `.encode()` to get the bytes representation, encoded in UTF-8."
      ]
     },
     "metadata": {},
     "output_type": "display_data"
    },
    {
     "data": {
      "application/javascript": [
       "parent.postMessage({\"jupyterEvent\": \"custom.exercise_interaction\", \"data\": {\"interactionType\": 3, \"questionType\": 1, \"questionId\": \"1_EncodingsIntro\", \"learnToolsVersion\": \"0.3.4\", \"valueTowardsCompletion\": 0.0, \"failureMessage\": \"\", \"exceptionClass\": \"\", \"trace\": \"\", \"outcomeType\": 4}}, \"*\")"
      ],
      "text/plain": [
       "<IPython.core.display.Javascript object>"
      ]
     },
     "metadata": {},
     "output_type": "display_data"
    },
    {
     "data": {
      "text/markdown": [
       "<span style=\"color:#33cc99\">Solution:</span> \n",
       "```python\n",
       "before = sample_entry.decode(\"big5-tw\")\n",
       "new_entry = before.encode()\n",
       "\n",
       "```"
      ],
      "text/plain": [
       "Solution: \n",
       "```python\n",
       "before = sample_entry.decode(\"big5-tw\")\n",
       "new_entry = before.encode()\n",
       "\n",
       "```"
      ]
     },
     "metadata": {},
     "output_type": "display_data"
    }
   ],
   "source": [
    "# Lines below will give you a hint or solution code\n",
    "q1.hint()\n",
    "q1.solution()"
   ]
  },
  {
   "cell_type": "markdown",
   "id": "5d3ba937",
   "metadata": {
    "papermill": {
     "duration": 0.007964,
     "end_time": "2022-12-25T18:58:17.566761",
     "exception": false,
     "start_time": "2022-12-25T18:58:17.558797",
     "status": "completed"
    },
    "tags": []
   },
   "source": [
    "# 2) Reading in files with encoding problems\n",
    "\n",
    "Use the code cell below to read in this file at path `\"../input/fatal-police-shootings-in-the-us/PoliceKillingsUS.csv\"`.  \n",
    "\n",
    "Figure out what the correct encoding should be and read in the file to a DataFrame `police_killings`."
   ]
  },
  {
   "cell_type": "code",
   "execution_count": 6,
   "id": "1374b126",
   "metadata": {
    "execution": {
     "iopub.execute_input": "2022-12-25T18:58:17.581224Z",
     "iopub.status.busy": "2022-12-25T18:58:17.580470Z",
     "iopub.status.idle": "2022-12-25T18:58:17.608796Z",
     "shell.execute_reply": "2022-12-25T18:58:17.607919Z"
    },
    "papermill": {
     "duration": 0.0382,
     "end_time": "2022-12-25T18:58:17.611012",
     "exception": false,
     "start_time": "2022-12-25T18:58:17.572812",
     "status": "completed"
    },
    "tags": []
   },
   "outputs": [
    {
     "data": {
      "application/javascript": [
       "parent.postMessage({\"jupyterEvent\": \"custom.exercise_interaction\", \"data\": {\"outcomeType\": 1, \"valueTowardsCompletion\": 0.3333333333333333, \"interactionType\": 1, \"questionType\": 1, \"questionId\": \"2_ReadIn\", \"learnToolsVersion\": \"0.3.4\", \"failureMessage\": \"\", \"exceptionClass\": \"\", \"trace\": \"\"}}, \"*\")"
      ],
      "text/plain": [
       "<IPython.core.display.Javascript object>"
      ]
     },
     "metadata": {},
     "output_type": "display_data"
    },
    {
     "data": {
      "text/markdown": [
       "<span style=\"color:#33cc33\">Correct</span>"
      ],
      "text/plain": [
       "Correct"
      ]
     },
     "metadata": {},
     "output_type": "display_data"
    }
   ],
   "source": [
    "# TODO: Load in the DataFrame correctly.\n",
    "police_killings = pd.read_csv(\"../input/fatal-police-shootings-in-the-us/PoliceKillingsUS.csv\", encoding='Windows-1252')\n",
    "\n",
    "# Check your answer\n",
    "q2.check()"
   ]
  },
  {
   "cell_type": "markdown",
   "id": "ddb3f01c",
   "metadata": {
    "papermill": {
     "duration": 0.005581,
     "end_time": "2022-12-25T18:58:17.622430",
     "exception": false,
     "start_time": "2022-12-25T18:58:17.616849",
     "status": "completed"
    },
    "tags": []
   },
   "source": [
    "Feel free to use any additional code cells for supplemental work.  To get credit for finishing this question, you'll need to run `q2.check()` and get a result of **Correct**."
   ]
  },
  {
   "cell_type": "code",
   "execution_count": 7,
   "id": "686e0c4c",
   "metadata": {
    "execution": {
     "iopub.execute_input": "2022-12-25T18:58:17.636586Z",
     "iopub.status.busy": "2022-12-25T18:58:17.636072Z",
     "iopub.status.idle": "2022-12-25T18:58:17.642263Z",
     "shell.execute_reply": "2022-12-25T18:58:17.640531Z"
    },
    "papermill": {
     "duration": 0.016692,
     "end_time": "2022-12-25T18:58:17.645024",
     "exception": false,
     "start_time": "2022-12-25T18:58:17.628332",
     "status": "completed"
    },
    "tags": []
   },
   "outputs": [],
   "source": [
    "# (Optional) Use this code cell for any additional work."
   ]
  },
  {
   "cell_type": "code",
   "execution_count": 8,
   "id": "9acb2d32",
   "metadata": {
    "execution": {
     "iopub.execute_input": "2022-12-25T18:58:17.660038Z",
     "iopub.status.busy": "2022-12-25T18:58:17.659546Z",
     "iopub.status.idle": "2022-12-25T18:58:17.674318Z",
     "shell.execute_reply": "2022-12-25T18:58:17.673195Z"
    },
    "papermill": {
     "duration": 0.025802,
     "end_time": "2022-12-25T18:58:17.677429",
     "exception": false,
     "start_time": "2022-12-25T18:58:17.651627",
     "status": "completed"
    },
    "tags": []
   },
   "outputs": [
    {
     "data": {
      "application/javascript": [
       "parent.postMessage({\"jupyterEvent\": \"custom.exercise_interaction\", \"data\": {\"interactionType\": 2, \"questionType\": 1, \"questionId\": \"2_ReadIn\", \"learnToolsVersion\": \"0.3.4\", \"valueTowardsCompletion\": 0.0, \"failureMessage\": \"\", \"exceptionClass\": \"\", \"trace\": \"\", \"outcomeType\": 4}}, \"*\")"
      ],
      "text/plain": [
       "<IPython.core.display.Javascript object>"
      ]
     },
     "metadata": {},
     "output_type": "display_data"
    },
    {
     "data": {
      "text/markdown": [
       "<span style=\"color:#3366cc\">Hint:</span> If you try to guess the encoding with the first 10,000 bytes of the file, it might give you the wrong answer.  Try using 100,000 or more lines of the file."
      ],
      "text/plain": [
       "Hint: If you try to guess the encoding with the first 10,000 bytes of the file, it might give you the wrong answer.  Try using 100,000 or more lines of the file."
      ]
     },
     "metadata": {},
     "output_type": "display_data"
    },
    {
     "data": {
      "application/javascript": [
       "parent.postMessage({\"jupyterEvent\": \"custom.exercise_interaction\", \"data\": {\"interactionType\": 3, \"questionType\": 1, \"questionId\": \"2_ReadIn\", \"learnToolsVersion\": \"0.3.4\", \"valueTowardsCompletion\": 0.0, \"failureMessage\": \"\", \"exceptionClass\": \"\", \"trace\": \"\", \"outcomeType\": 4}}, \"*\")"
      ],
      "text/plain": [
       "<IPython.core.display.Javascript object>"
      ]
     },
     "metadata": {},
     "output_type": "display_data"
    },
    {
     "data": {
      "text/markdown": [
       "<span style=\"color:#33cc99\">Solution:</span> \n",
       "```python\n",
       "police_killings = pd.read_csv(\"../input/fatal-police-shootings-in-the-us/PoliceKillingsUS.csv\", encoding='Windows-1252')\n",
       "\n",
       "```"
      ],
      "text/plain": [
       "Solution: \n",
       "```python\n",
       "police_killings = pd.read_csv(\"../input/fatal-police-shootings-in-the-us/PoliceKillingsUS.csv\", encoding='Windows-1252')\n",
       "\n",
       "```"
      ]
     },
     "metadata": {},
     "output_type": "display_data"
    }
   ],
   "source": [
    "# Lines below will give you a hint or solution code\n",
    "q2.hint()\n",
    "q2.solution()"
   ]
  },
  {
   "cell_type": "markdown",
   "id": "896e7781",
   "metadata": {
    "papermill": {
     "duration": 0.010291,
     "end_time": "2022-12-25T18:58:17.695345",
     "exception": false,
     "start_time": "2022-12-25T18:58:17.685054",
     "status": "completed"
    },
    "tags": []
   },
   "source": [
    "# 3) Saving your files with UTF-8 encoding\n",
    "\n",
    "Save a version of the police killings dataset to CSV with UTF-8 encoding.  Your answer will be marked correct after saving this file.  \n",
    "\n",
    "Note: When using the `to_csv()` method, supply only the name of the file (e.g., `\"my_file.csv\"`).  This saves the file at the filepath `\"/kaggle/working/my_file.csv\"`."
   ]
  },
  {
   "cell_type": "code",
   "execution_count": 9,
   "id": "5b2491b1",
   "metadata": {
    "execution": {
     "iopub.execute_input": "2022-12-25T18:58:17.713658Z",
     "iopub.status.busy": "2022-12-25T18:58:17.712737Z",
     "iopub.status.idle": "2022-12-25T18:58:17.765648Z",
     "shell.execute_reply": "2022-12-25T18:58:17.764342Z"
    },
    "papermill": {
     "duration": 0.065512,
     "end_time": "2022-12-25T18:58:17.768465",
     "exception": false,
     "start_time": "2022-12-25T18:58:17.702953",
     "status": "completed"
    },
    "tags": []
   },
   "outputs": [
    {
     "data": {
      "application/javascript": [
       "parent.postMessage({\"jupyterEvent\": \"custom.exercise_interaction\", \"data\": {\"outcomeType\": 1, \"valueTowardsCompletion\": 0.3333333333333333, \"interactionType\": 1, \"questionType\": 2, \"questionId\": \"3_SaveCSV\", \"learnToolsVersion\": \"0.3.4\", \"failureMessage\": \"\", \"exceptionClass\": \"\", \"trace\": \"\"}}, \"*\")"
      ],
      "text/plain": [
       "<IPython.core.display.Javascript object>"
      ]
     },
     "metadata": {},
     "output_type": "display_data"
    },
    {
     "data": {
      "text/markdown": [
       "<span style=\"color:#33cc33\">Correct</span>"
      ],
      "text/plain": [
       "Correct"
      ]
     },
     "metadata": {},
     "output_type": "display_data"
    }
   ],
   "source": [
    "# TODO: Save the police killings dataset to CSV\n",
    "police_killings.to_csv(\"my_file.csv\")\n",
    "\n",
    "# Check your answer\n",
    "q3.check()"
   ]
  },
  {
   "cell_type": "code",
   "execution_count": 10,
   "id": "fd65f6b2",
   "metadata": {
    "execution": {
     "iopub.execute_input": "2022-12-25T18:58:17.784378Z",
     "iopub.status.busy": "2022-12-25T18:58:17.783905Z",
     "iopub.status.idle": "2022-12-25T18:58:17.800946Z",
     "shell.execute_reply": "2022-12-25T18:58:17.799295Z"
    },
    "papermill": {
     "duration": 0.028037,
     "end_time": "2022-12-25T18:58:17.803516",
     "exception": false,
     "start_time": "2022-12-25T18:58:17.775479",
     "status": "completed"
    },
    "tags": []
   },
   "outputs": [
    {
     "data": {
      "application/javascript": [
       "parent.postMessage({\"jupyterEvent\": \"custom.exercise_interaction\", \"data\": {\"interactionType\": 2, \"questionType\": 2, \"questionId\": \"3_SaveCSV\", \"learnToolsVersion\": \"0.3.4\", \"valueTowardsCompletion\": 0.0, \"failureMessage\": \"\", \"exceptionClass\": \"\", \"trace\": \"\", \"outcomeType\": 4}}, \"*\")"
      ],
      "text/plain": [
       "<IPython.core.display.Javascript object>"
      ]
     },
     "metadata": {},
     "output_type": "display_data"
    },
    {
     "data": {
      "text/markdown": [
       "<span style=\"color:#3366cc\">Hint:</span> Use `.to_csv().`"
      ],
      "text/plain": [
       "Hint: Use `.to_csv().`"
      ]
     },
     "metadata": {},
     "output_type": "display_data"
    },
    {
     "data": {
      "application/javascript": [
       "parent.postMessage({\"jupyterEvent\": \"custom.exercise_interaction\", \"data\": {\"interactionType\": 3, \"questionType\": 2, \"questionId\": \"3_SaveCSV\", \"learnToolsVersion\": \"0.3.4\", \"valueTowardsCompletion\": 0.0, \"failureMessage\": \"\", \"exceptionClass\": \"\", \"trace\": \"\", \"outcomeType\": 4}}, \"*\")"
      ],
      "text/plain": [
       "<IPython.core.display.Javascript object>"
      ]
     },
     "metadata": {},
     "output_type": "display_data"
    },
    {
     "data": {
      "text/markdown": [
       "<span style=\"color:#33cc99\">Solution:</span> \n",
       "```python\n",
       "\n",
       "police_killings.to_csv(\"my_file.csv\")\n",
       "\n",
       "```"
      ],
      "text/plain": [
       "Solution: \n",
       "```python\n",
       "\n",
       "police_killings.to_csv(\"my_file.csv\")\n",
       "\n",
       "```"
      ]
     },
     "metadata": {},
     "output_type": "display_data"
    }
   ],
   "source": [
    "# Lines below will give you a hint or solution code\n",
    "q3.hint()\n",
    "q3.solution()"
   ]
  },
  {
   "cell_type": "markdown",
   "id": "f1fa4ed0",
   "metadata": {
    "papermill": {
     "duration": 0.00814,
     "end_time": "2022-12-25T18:58:17.821715",
     "exception": false,
     "start_time": "2022-12-25T18:58:17.813575",
     "status": "completed"
    },
    "tags": []
   },
   "source": [
    "# (Optional) More practice\n",
    "\n",
    "Check out [this dataset of files in different character encodings](https://www.kaggle.com/rtatman/character-encoding-examples). Can you read in all the files with their original encodings and them save them out as UTF-8 files?\n",
    "\n",
    "If you have a file that's in UTF-8 but has just a couple of weird-looking characters in it, you can try out the [ftfy module](https://ftfy.readthedocs.io/en/latest/#) and see if it helps. \n",
    "\n",
    "# Keep going\n",
    "\n",
    "In the final lesson, learn how to [**clean up inconsistent text entries**](https://www.kaggle.com/alexisbcook/inconsistent-data-entry) in your dataset."
   ]
  },
  {
   "cell_type": "markdown",
   "id": "7e97cda1",
   "metadata": {
    "papermill": {
     "duration": 0.006798,
     "end_time": "2022-12-25T18:58:17.835993",
     "exception": false,
     "start_time": "2022-12-25T18:58:17.829195",
     "status": "completed"
    },
    "tags": []
   },
   "source": [
    "---\n",
    "\n",
    "\n",
    "\n",
    "\n",
    "*Have questions or comments? Visit the [course discussion forum](https://www.kaggle.com/learn/data-cleaning/discussion) to chat with other learners.*"
   ]
  }
 ],
 "metadata": {
  "kernelspec": {
   "display_name": "Python 3",
   "language": "python",
   "name": "python3"
  },
  "language_info": {
   "codemirror_mode": {
    "name": "ipython",
    "version": 3
   },
   "file_extension": ".py",
   "mimetype": "text/x-python",
   "name": "python",
   "nbconvert_exporter": "python",
   "pygments_lexer": "ipython3",
   "version": "3.7.12"
  },
  "papermill": {
   "default_parameters": {},
   "duration": 10.290686,
   "end_time": "2022-12-25T18:58:18.769207",
   "environment_variables": {},
   "exception": null,
   "input_path": "__notebook__.ipynb",
   "output_path": "__notebook__.ipynb",
   "parameters": {},
   "start_time": "2022-12-25T18:58:08.478521",
   "version": "2.3.4"
  }
 },
 "nbformat": 4,
 "nbformat_minor": 5
}
